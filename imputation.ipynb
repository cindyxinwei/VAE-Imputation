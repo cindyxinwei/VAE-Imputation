{
 "cells": [
  {
   "cell_type": "markdown",
   "id": "053ebb48",
   "metadata": {},
   "source": [
    "# Variational Autoencoder Imputation\n"
   ]
  },
  {
   "cell_type": "code",
   "execution_count": null,
   "id": "2950c2b2",
   "metadata": {},
   "outputs": [],
   "source": [
    "import torch\n",
    "import torch.nn as nn\n",
    "import torch.nn.functional as F\n",
    "import numpy as np\n",
    "import pandas as pd\n",
    "from sklearn.preprocessing import StandardScaler\n",
    "import re\n",
    "from sklearn.cluster import KMeans\n",
    "import seaborn as sns\n",
    "import matplotlib.pyplot as plt\n",
    "from sklearn.decomposition import PCA, TruncatedSVD\n",
    "from sklearn.metrics import silhouette_score"
   ]
  },
  {
   "cell_type": "markdown",
   "id": "51e72dd0",
   "metadata": {},
   "source": [
    "### Data Cleaning"
   ]
  },
  {
   "cell_type": "code",
   "execution_count": null,
   "id": "7129b5a6",
   "metadata": {},
   "outputs": [],
   "source": [
    "#remove irrelevant columns\n",
    "data=pd.read_csv('/Users/cindywei/Ariadne Labs/ariadneML/Community Health Provider Survey_May 21, 2025_09.21 - Pre-Survey Results .csv')\n",
    "data = data.drop(columns=[]) ## insert irrelevant (non-numeric, ordinal, or categorical) columns here\n",
    "\n",
    "#create binary mask for missing values\n",
    "mask = data.isnull().astype(int)\n",
    "\n",
    "#fill missing values temporarily with zeros\n",
    "data_filled = data.fillna(0)"
   ]
  },
  {
   "cell_type": "markdown",
   "id": "5a50e507",
   "metadata": {},
   "source": [
    "### Encode Variables"
   ]
  },
  {
   "cell_type": "code",
   "execution_count": null,
   "id": "176834c9",
   "metadata": {},
   "outputs": [],
   "source": [
    "#encode ordinal variables\n",
    "#e.x. likert, frequency, effectiveness, etc.\n",
    "ordinal_columns = [] #ordinal column named\n",
    "\n",
    "ordinal_data=data_filled[[col for col in ordinal_columns]]\n",
    "scales=[] #ordinal scales for every column, ex [\"Strong Disagree\", \"Disagree\", \"Neutral\", \"Agree\", \"Strongly Agree\"]\n",
    "for col,scale in zip(ordinal_columns,scales):\n",
    "    ordinal_data[col] = pd.Categorical(\n",
    "        data_filled[col],\n",
    "        categories=scale,\n",
    "        ordered=True\n",
    "    ).codes\n",
    "ordinal_scaled=StandardScaler().fit_transform(ordinal_data)\n",
    "mask_ordinal = pd.DataFrame(mask[ordinal_columns], columns=ordinal_columns)\n"
   ]
  },
  {
   "cell_type": "code",
   "execution_count": null,
   "id": "788f58bc",
   "metadata": {},
   "outputs": [],
   "source": [
    "#clean+scale numerical variables\n",
    "numerical_columns = [] # insert numerical column names here\n",
    "numerical_data=data_filled[numerical_columns]\n",
    "def extract_first_integer(x):\n",
    "    if pd.isnull(x):\n",
    "        return None\n",
    "    matches = re.findall(r'\\d+', str(x))\n",
    "    return int(matches[0]) if matches else None\n",
    "for col in numerical_columns:\n",
    "    numerical_data[col] = numerical_data[col].apply(extract_first_integer)\n",
    "for col in numerical_data.columns:\n",
    "    numerical_data[col] = numerical_data[col].fillna(numerical_data[col].mean()) #fill NaNs with mean\n",
    "numerical_scaled = StandardScaler().fit_transform(numerical_data[numerical_columns])\n",
    "numerical_mask_encoded = pd.DataFrame(mask[numerical_columns], columns=numerical_columns)\n",
    "print(np.isnan(numerical_scaled).sum())"
   ]
  },
  {
   "cell_type": "code",
   "execution_count": null,
   "id": "a9c8d1aa",
   "metadata": {},
   "outputs": [],
   "source": [
    "#encode nominal categorical variables\n",
    "categorical_columns = [col for col in data_filled.columns if col not in ordinal_columns + numerical_columns]\n",
    "categorical_encoded = pd.get_dummies(data_filled[categorical_columns], drop_first=False)\n",
    "categorical_mask_encoded = pd.get_dummies(pd.DataFrame(mask[categorical_columns], columns=categorical_columns), drop_first=False)\n",
    "categorical_mask_encoded = categorical_mask_encoded.reindex(columns=categorical_encoded.columns, fill_value=0)\n"
   ]
  },
  {
   "cell_type": "markdown",
   "id": "032b955b",
   "metadata": {},
   "source": [
    "### prepare final inputs"
   ]
  },
  {
   "cell_type": "code",
   "execution_count": null,
   "id": "e2280a2d",
   "metadata": {},
   "outputs": [],
   "source": [
    "X = np.concatenate([\n",
    "    ordinal_scaled,\n",
    "    categorical_encoded.values,\n",
    "    numerical_scaled\n",
    "], axis=1)\n",
    "\n",
    "print(ordinal_scaled.shape, categorical_encoded.shape, numerical_scaled.shape)\n",
    "\n",
    "M = np.concatenate([\n",
    "    mask_ordinal.values,\n",
    "    categorical_mask_encoded.values,\n",
    "    numerical_mask_encoded.values\n",
    "], axis=1)\n",
    "\n",
    "print(mask_ordinal.shape, categorical_mask_encoded.shape, numerical_mask_encoded.shape)\n"
   ]
  },
  {
   "cell_type": "markdown",
   "id": "30e4b400",
   "metadata": {},
   "source": [
    "### define VAE"
   ]
  },
  {
   "cell_type": "code",
   "execution_count": null,
   "id": "87984b4d",
   "metadata": {},
   "outputs": [],
   "source": [
    "class VAE(nn.Module):\n",
    "    def __init__(self, input_dim, latent_dim=10):\n",
    "        super(VAE, self).__init__()\n",
    "        self.encoder = nn.Sequential(\n",
    "            nn.Linear(input_dim, 64),\n",
    "            nn.ReLU()\n",
    "        )\n",
    "        self.z_mean = nn.Linear(64, latent_dim)\n",
    "        self.z_logvar = nn.Linear(64, latent_dim)\n",
    "        self.decoder = nn.Sequential(\n",
    "            nn.Linear(latent_dim, 64),\n",
    "            nn.ReLU(),\n",
    "            nn.Linear(64, input_dim)\n",
    "        )\n",
    "\n",
    "    def reparameterize(self, mu, logvar):\n",
    "        std = torch.exp(0.5 * logvar)\n",
    "        eps = torch.randn_like(std)\n",
    "        return mu + eps * std\n",
    "\n",
    "    def forward(self, x):\n",
    "        h = self.encoder(x)\n",
    "        mu, logvar = self.z_mean(h), self.z_logvar(h)\n",
    "        z = self.reparameterize(mu, logvar)\n",
    "        x_recon = self.decoder(z)\n",
    "        return x_recon, mu, logvar\n",
    "    \n",
    "    def loss_function(recon_x, x, mu, logvar, M_tensor):\n",
    "        recon=((recon_x-x)**2)*M_tensor\n",
    "        recon_loss = recon.sum() / M.sum()\n",
    "        kl_loss = -0.5 * torch.sum(1 + logvar - mu.pow(2) - logvar.exp()) / x.size(0)\n",
    "        return recon_loss + kl_loss\n",
    "\n",
    "    X_tensor = torch.tensor(X, dtype=torch.float32)\n",
    "    M_tensor = torch.tensor(M, dtype=torch.float32)\n",
    "\n",
    "\n",
    "    vae=VAE(input_dim=X.shape[1])\n",
    "    optimizer = torch.optim.Adam(vae.parameters(), lr=1e-3)\n",
    "    for epoch in range(100):\n",
    "        vae.train()\n",
    "        optimizer.zero_grad()\n",
    "        recon_batch, mu, logvar = vae(X_tensor)\n",
    "        loss = loss_function(recon_batch, X_tensor, mu, logvar, M_tensor)\n",
    "        loss.backward()\n",
    "        optimizer.step()\n",
    "        \n",
    "        if epoch % 10 == 0:\n",
    "            print(f'Epoch {epoch}, Loss: {loss.item()}')\n",
    "        "
   ]
  },
  {
   "cell_type": "code",
   "execution_count": null,
   "id": "d0398846",
   "metadata": {},
   "outputs": [],
   "source": [
    "# Imputation\n",
    "vae.eval()\n",
    "with torch.no_grad():\n",
    "    recon_batch, _, _ = vae(X_tensor)\n",
    "    x_imputed = X_tensor * M_tensor + recon_batch * (1 - M_tensor)\n",
    "    X_imputed = x_imputed.numpy()\n",
    "\n",
    "#save imputed data\n",
    "column_names = (\n",
    "    list(ordinal_data.columns) +\n",
    "    list(categorical_encoded.columns) +\n",
    "    list(numerical_data.columns)\n",
    ")\n",
    "\n",
    "imputed_data = pd.DataFrame(X_imputed, columns=column_names)\n",
    "imputed_data.to_csv('imputed_data.csv', index=False)\n",
    "print(\"Imputation completed and saved to 'imputed_data.csv'.\")"
   ]
  }
 ],
 "metadata": {
  "kernelspec": {
   "display_name": "Python 3",
   "language": "python",
   "name": "python3"
  },
  "language_info": {
   "name": "python",
   "version": "3.11.10"
  }
 },
 "nbformat": 4,
 "nbformat_minor": 5
}
